{
 "cells": [
  {
   "cell_type": "code",
   "execution_count": 4,
   "metadata": {},
   "outputs": [],
   "source": [
    "import psycopg2\n",
    "from sqlalchemy import create_engine, inspect, text\n",
    "from database_utils import DatabaseConnector\n",
    "\n",
    "connector = DatabaseConnector('db_creds.yaml')\n"
   ]
  },
  {
   "cell_type": "code",
   "execution_count": 5,
   "metadata": {},
   "outputs": [],
   "source": []
  },
  {
   "cell_type": "markdown",
   "metadata": {},
   "source": [
    "### Task One\n"
   ]
  },
  {
   "cell_type": "code",
   "execution_count": 6,
   "metadata": {},
   "outputs": [
    {
     "name": "stdout",
     "output_type": "stream",
     "text": [
      "Column data types changed successfully.\n"
     ]
    }
   ],
   "source": [
    "alter_command = \"\"\"\n",
    "ALTER TABLE orders_table\n",
    "    ALTER COLUMN date_uuid TYPE UUID USING (date_uuid::UUID),\n",
    "    ALTER COLUMN user_uuid TYPE UUID USING (user_uuid::UUID),\n",
    "    ALTER COLUMN card_number TYPE VARCHAR(255),\n",
    "    ALTER COLUMN store_code TYPE VARCHAR(255),\n",
    "    ALTER COLUMN product_code TYPE VARCHAR(255),\n",
    "    ALTER COLUMN product_quantity TYPE SMALLINT USING (product_quantity::SMALLINT);\n",
    "\"\"\"\n",
    "\n",
    "connector.local_connection.execute(text(alter_command))\n",
    "\n",
    "print(\"Column data types changed successfully.\")"
   ]
  },
  {
   "cell_type": "markdown",
   "metadata": {},
   "source": [
    "### Task Two"
   ]
  },
  {
   "cell_type": "code",
   "execution_count": 7,
   "metadata": {},
   "outputs": [
    {
     "name": "stdout",
     "output_type": "stream",
     "text": [
      "Column data types changed successfully.\n"
     ]
    }
   ],
   "source": [
    "alter_command = \"\"\"\n",
    "UPDATE dim_users\n",
    "SET user_uuid = NULL\n",
    "WHERE user_uuid::text !~ '-';\n",
    "\n",
    "DELETE FROM dim_users WHERE user_uuid IS NULL;\n",
    "\n",
    "ALTER TABLE dim_users\n",
    "    ALTER COLUMN first_name TYPE VARCHAR(255),\n",
    "    ALTER COLUMN last_name TYPE VARCHAR(255),\n",
    "    ALTER COLUMN date_of_birth TYPE DATE USING (date_of_birth::DATE),\n",
    "    ALTER COLUMN country_code TYPE VARCHAR(16), \n",
    "    ALTER COLUMN user_uuid TYPE UUID USING (user_uuid::UUID),\n",
    "    ALTER COLUMN join_date TYPE DATE USING (join_date::DATE);\n",
    "\n",
    "\n",
    "\"\"\"\n",
    "\n",
    "connector.local_connection.execute(text(alter_command))\n",
    "\n",
    "print(\"Column data types changed successfully.\")"
   ]
  },
  {
   "cell_type": "markdown",
   "metadata": {},
   "source": [
    "### Task Three"
   ]
  },
  {
   "cell_type": "code",
   "execution_count": 8,
   "metadata": {},
   "outputs": [
    {
     "name": "stdout",
     "output_type": "stream",
     "text": [
      "Latitudes successfuly merged.\n"
     ]
    }
   ],
   "source": [
    "alter_command = \"\"\" \n",
    "UPDATE dim_store_details SET latitude = COALESCE(latitude, lat);\n",
    "ALTER TABLE dim_store_details DROP COLUMN lat;\n",
    "\"\"\"\n",
    "\n",
    "connector.local_connection.execute(text(alter_command))\n",
    "connector.local_connection.commit()\n",
    "print(\"Latitudes successfuly merged.\")"
   ]
  },
  {
   "cell_type": "code",
   "execution_count": 9,
   "metadata": {},
   "outputs": [
    {
     "name": "stdout",
     "output_type": "stream",
     "text": [
      "Alphanumeric successfully removed\n"
     ]
    }
   ],
   "source": [
    "alter_command = \"\"\" \n",
    "UPDATE dim_store_details\n",
    "SET staff_numbers = NULL\n",
    "WHERE staff_numbers ~ '[^0-9]';\n",
    "\n",
    "UPDATE dim_store_details\n",
    "SET longitude = NULL\n",
    "WHERE longitude !~ '^[-]?[0-9]+(\\.[0-9]+)?$';\n",
    "\n",
    "UPDATE dim_store_details\n",
    "SET latitude = NULL\n",
    "WHERE latitude !~ '^[-]?[0-9]+(\\.[0-9]+)?$';\n",
    "\n",
    "UPDATE dim_store_details\n",
    "SET opening_date = NULL\n",
    "WHERE opening_date !~ '^[0-9]{4}-[0-9]{2}-[0-9]{2}$';\n",
    "\n",
    "\n",
    "\"\"\"\n",
    "\n",
    "connector.local_connection.execute(text(alter_command))\n",
    "connector.local_connection.commit()\n",
    "print(\"Alphanumeric successfully removed\")"
   ]
  },
  {
   "cell_type": "code",
   "execution_count": 10,
   "metadata": {},
   "outputs": [
    {
     "name": "stdout",
     "output_type": "stream",
     "text": [
      "Type successfully updated.\n"
     ]
    }
   ],
   "source": [
    "alter_command = \"\"\" \n",
    "ALTER TABLE dim_store_details\n",
    "    ALTER COLUMN longitude TYPE FLOAT USING longitude::FLOAT,\n",
    "    ALTER COLUMN locality TYPE VARCHAR(64),\n",
    "    ALTER COLUMN store_code TYPE VARCHAR(255), \n",
    "    ALTER COLUMN staff_numbers TYPE SMALLINT USING staff_numbers::SMALLINT,\n",
    "    ALTER COLUMN opening_date TYPE DATE USING opening_date::DATE,\n",
    "    ALTER COLUMN store_type TYPE VARCHAR(255),\n",
    "    ALTER COLUMN latitude TYPE FLOAT USING latitude::FLOAT,\n",
    "    ALTER COLUMN country_code TYPE VARCHAR(255),\n",
    "    ALTER COLUMN continent TYPE VARCHAR(255);\n",
    "\n",
    "UPDATE dim_store_details\n",
    "SET locality = 'N/A'\n",
    "WHERE locality IS NULL;\n",
    "\"\"\"\n",
    "\n",
    "connector.local_connection.execute(text(alter_command))\n",
    "connector.local_connection.commit()\n",
    "print(\"Type successfully updated.\")"
   ]
  },
  {
   "cell_type": "markdown",
   "metadata": {},
   "source": [
    "### TASK FOUR"
   ]
  },
  {
   "cell_type": "code",
   "execution_count": 11,
   "metadata": {},
   "outputs": [
    {
     "name": "stdout",
     "output_type": "stream",
     "text": [
      "£ successfully removed\n"
     ]
    }
   ],
   "source": [
    "alter_command = \"\"\"\n",
    "UPDATE dim_products\n",
    "SET product_price = REPLACE(product_price, '£', '');\n",
    "\n",
    "\"\"\"\n",
    "connector.local_connection.execute(text(alter_command))\n",
    "connector.local_connection.commit()\n",
    "print(\"£ successfully removed\")"
   ]
  },
  {
   "cell_type": "code",
   "execution_count": 12,
   "metadata": {},
   "outputs": [
    {
     "name": "stdout",
     "output_type": "stream",
     "text": [
      "categories successfully added\n"
     ]
    }
   ],
   "source": [
    "\n",
    "alter_command = \"\"\"\n",
    "ALTER TABLE dim_products\n",
    "ADD COLUMN weight_class VARCHAR(20);\n",
    "\n",
    "UPDATE dim_products\n",
    "SET weight_class = CASE\n",
    "    WHEN weight_kg < 2 THEN 'Light'\n",
    "    WHEN weight_kg >= 2 AND weight_kg < 40 THEN 'Mid_Sized'\n",
    "    WHEN weight_kg >= 40 AND weight_kg < 140 THEN 'Heavy'\n",
    "    WHEN weight_kg >= 140 THEN 'Truck_Required'\n",
    "    ELSE 'Unknown'  -- Optional, to handle any cases not covered above\n",
    "END;\n",
    "\n",
    "\"\"\"\n",
    "connector.local_connection.execute(text(alter_command))\n",
    "connector.local_connection.commit()\n",
    "print(\"categories successfully added\")"
   ]
  },
  {
   "cell_type": "code",
   "execution_count": 13,
   "metadata": {},
   "outputs": [
    {
     "name": "stdout",
     "output_type": "stream",
     "text": [
      "Categories successfully added\n"
     ]
    }
   ],
   "source": [
    "\n",
    "alter_command = \"\"\"\n",
    "\n",
    "ALTER TABLE dim_products\n",
    "RENAME COLUMN removed TO still_available;\n",
    "\n",
    "UPDATE dim_products\n",
    "SET still_available = CASE\n",
    "    WHEN still_available = 'Still_avaliable' THEN 'true'\n",
    "    ELSE 'false'\n",
    "END;\n",
    "\n",
    "\n",
    "\"\"\"\n",
    "connector.local_connection.execute(text(alter_command))\n",
    "connector.local_connection.commit()\n",
    "print(\"Categories successfully added\")"
   ]
  },
  {
   "cell_type": "code",
   "execution_count": 14,
   "metadata": {},
   "outputs": [
    {
     "name": "stdout",
     "output_type": "stream",
     "text": [
      "Categories successfully added\n"
     ]
    }
   ],
   "source": [
    "alter_command = \"\"\"\n",
    "UPDATE dim_products\n",
    "SET product_price = NULL\n",
    "WHERE product_price !~ '^[-]?[0-9]+(\\.[0-9]+)?$';\n",
    "\n",
    "\n",
    "UPDATE dim_products\n",
    "SET date_added = NULL\n",
    "WHERE date_added !~ '^[0-9]{4}-[0-9]{2}-[0-9]{2}$';\n",
    "\n",
    "UPDATE dim_products\n",
    "SET uuid = NULL\n",
    "WHERE uuid !~ '-';\n",
    "\n",
    "\"\"\"\n",
    "connector.local_connection.execute(text(alter_command))\n",
    "connector.local_connection.commit()\n",
    "print(\"Categories successfully added\")"
   ]
  },
  {
   "cell_type": "code",
   "execution_count": 15,
   "metadata": {},
   "outputs": [
    {
     "name": "stdout",
     "output_type": "stream",
     "text": [
      "Categories successfully added\n"
     ]
    }
   ],
   "source": [
    "# ALTER COLUMN weight_kg TYPE FLOAT USING weight_kg::FLOAT,\n",
    "alter_command = \"\"\"\n",
    "\n",
    "ALTER TABLE dim_products\n",
    "    ALTER COLUMN product_price TYPE FLOAT USING product_price::FLOAT,\n",
    "    ALTER COLUMN \\\"EAN\\\" TYPE VARCHAR(20),  \n",
    "    ALTER COLUMN product_code TYPE VARCHAR(20),  \n",
    "    ALTER COLUMN date_added TYPE DATE USING date_added::DATE,\n",
    "    ALTER COLUMN uuid TYPE UUID USING uuid::UUID,\n",
    "    ALTER COLUMN still_available TYPE BOOL USING still_available::BOOL,\n",
    "    ALTER COLUMN weight_class TYPE VARCHAR(20);  \n",
    "\n",
    "\"\"\"\n",
    "connector.local_connection.execute(text(alter_command))\n",
    "connector.local_connection.commit()\n",
    "print(\"Categories successfully added\") "
   ]
  },
  {
   "cell_type": "markdown",
   "metadata": {},
   "source": [
    "### TASK FIVE"
   ]
  },
  {
   "cell_type": "code",
   "execution_count": 16,
   "metadata": {},
   "outputs": [
    {
     "name": "stdout",
     "output_type": "stream",
     "text": [
      "removed unwanted items\n"
     ]
    }
   ],
   "source": [
    "alter_command = \"\"\"\n",
    "UPDATE dim_date_times\n",
    "SET month = NULL\n",
    "WHERE month !~ '^[-]?[0-9]+(\\.[0-9]+)?$';\n",
    "\n",
    "UPDATE dim_date_times\n",
    "SET year = NULL\n",
    "WHERE year !~ '^[-]?[0-9]+(\\.[0-9]+)?$';\n",
    "\n",
    "UPDATE dim_date_times\n",
    "SET day = NULL\n",
    "WHERE day !~ '^[-]?[0-9]+(\\.[0-9]+)?$';\n",
    "\n",
    "UPDATE dim_date_times\n",
    "SET timestamp = NULL\n",
    "WHERE timestamp !~ ':';\n",
    "\n",
    "UPDATE dim_date_times\n",
    "SET date_uuid = NULL\n",
    "WHERE date_uuid !~ '-';\n",
    "\n",
    "UPDATE dim_date_times\n",
    "SET time_period = NULL\n",
    "WHERE time_period !~ '^[A-Za-z]+$';\n",
    "\n",
    "\"\"\"\n",
    "connector.local_connection.execute(text(alter_command))\n",
    "connector.local_connection.commit()\n",
    "print(\"removed unwanted items\")"
   ]
  },
  {
   "cell_type": "code",
   "execution_count": 17,
   "metadata": {},
   "outputs": [
    {
     "name": "stdout",
     "output_type": "stream",
     "text": [
      "Casting done successfully \n"
     ]
    }
   ],
   "source": [
    "# ALTER COLUMN weight_kg TYPE FLOAT USING weight_kg::FLOAT,\n",
    "alter_command = \"\"\"\n",
    "\n",
    "ALTER TABLE dim_date_times\n",
    "    ALTER COLUMN month TYPE VARCHAR(20),  \n",
    "    ALTER COLUMN year TYPE VARCHAR(10),   \n",
    "    ALTER COLUMN day TYPE VARCHAR(10),    \n",
    "    ALTER COLUMN time_period TYPE VARCHAR(20),  \n",
    "    ALTER COLUMN date_uuid TYPE UUID USING date_uuid::uuid;\n",
    "\n",
    "\n",
    "\"\"\"\n",
    "connector.local_connection.execute(text(alter_command))\n",
    "connector.local_connection.commit()\n",
    "print(\"Casting done successfully \") "
   ]
  },
  {
   "cell_type": "markdown",
   "metadata": {},
   "source": [
    "### TASK SIX"
   ]
  },
  {
   "cell_type": "code",
   "execution_count": 18,
   "metadata": {},
   "outputs": [
    {
     "name": "stdout",
     "output_type": "stream",
     "text": [
      "removed unwanted items\n"
     ]
    }
   ],
   "source": [
    "alter_command = \"\"\"\n",
    "UPDATE dim_card_details\n",
    "SET card_number = NULL\n",
    "WHERE card_number !~ '^[-]?[0-9]+(\\.[0-9]+)?$';\n",
    "\n",
    "\n",
    "\n",
    "UPDATE dim_card_details\n",
    "SET expiry_date = NULL\n",
    "WHERE expiry_date !~ '/';\n",
    "\n",
    "\"\"\"\n",
    "connector.local_connection.execute(text(alter_command))\n",
    "connector.local_connection.commit()\n",
    "print(\"removed unwanted items\")"
   ]
  },
  {
   "cell_type": "code",
   "execution_count": 19,
   "metadata": {},
   "outputs": [
    {
     "name": "stdout",
     "output_type": "stream",
     "text": [
      "Casting done successfully \n"
     ]
    }
   ],
   "source": [
    "# ALTER COLUMN weight_kg TYPE FLOAT USING weight_kg::FLOAT,\n",
    "alter_command = \"\"\"\n",
    "\n",
    "ALTER TABLE dim_card_details\n",
    "    ALTER COLUMN card_number TYPE VARCHAR(32),\n",
    "    ALTER COLUMN expiry_date TYPE VARCHAR(8),\n",
    "    ALTER COLUMN date_payment_confirmed TYPE DATE;\n",
    "\n",
    "\n",
    "\n",
    "\"\"\"\n",
    "connector.local_connection.execute(text(alter_command))\n",
    "connector.local_connection.commit()\n",
    "print(\"Casting done successfully \") "
   ]
  },
  {
   "cell_type": "markdown",
   "metadata": {},
   "source": [
    "### TASK 7"
   ]
  },
  {
   "cell_type": "code",
   "execution_count": 20,
   "metadata": {},
   "outputs": [
    {
     "name": "stdout",
     "output_type": "stream",
     "text": [
      "Primary key set successfully \n"
     ]
    }
   ],
   "source": [
    "alter_command = \"\"\"\n",
    "DELETE FROM dim_card_details WHERE card_number IS NULL;\n",
    "\n",
    "\n",
    "ALTER TABLE dim_card_details\n",
    "ADD PRIMARY KEY (card_number);\n",
    "\n",
    "\"\"\"\n",
    "connector.local_connection.execute(text(alter_command))\n",
    "connector.local_connection.commit()\n",
    "print(\"Primary key set successfully \") \n"
   ]
  },
  {
   "cell_type": "code",
   "execution_count": 21,
   "metadata": {},
   "outputs": [
    {
     "name": "stdout",
     "output_type": "stream",
     "text": [
      "Primary key set successfully \n"
     ]
    }
   ],
   "source": [
    "alter_command = \"\"\"\n",
    "DELETE FROM dim_date_times WHERE date_uuid IS NULL;\n",
    "\n",
    "\n",
    "ALTER TABLE dim_date_times\n",
    "ADD PRIMARY KEY (date_uuid);\n",
    "\n",
    "\"\"\"\n",
    "connector.local_connection.execute(text(alter_command))\n",
    "connector.local_connection.commit()\n",
    "print(\"Primary key set successfully \") \n"
   ]
  },
  {
   "cell_type": "code",
   "execution_count": 22,
   "metadata": {},
   "outputs": [
    {
     "name": "stdout",
     "output_type": "stream",
     "text": [
      "Primary key set successfully \n"
     ]
    }
   ],
   "source": [
    "alter_command = \"\"\"\n",
    "DELETE FROM dim_users WHERE user_uuid IS NULL;\n",
    "\n",
    "\n",
    "ALTER TABLE dim_users\n",
    "ADD PRIMARY KEY (user_uuid);\n",
    "\n",
    "\"\"\"\n",
    "connector.local_connection.execute(text(alter_command))\n",
    "connector.local_connection.commit()\n",
    "print(\"Primary key set successfully \") \n"
   ]
  },
  {
   "cell_type": "code",
   "execution_count": 23,
   "metadata": {},
   "outputs": [
    {
     "name": "stdout",
     "output_type": "stream",
     "text": [
      "Primary key set successfully \n"
     ]
    }
   ],
   "source": [
    "alter_command = \"\"\"\n",
    "DELETE FROM dim_store_details WHERE store_code IS NULL;\n",
    "DELETE FROM dim_store_details WHERE store_code = 'NULL';\n",
    "\n",
    "ALTER TABLE dim_store_details\n",
    "ADD PRIMARY KEY (store_code);\n",
    "\n",
    "\"\"\"\n",
    "connector.local_connection.execute(text(alter_command))\n",
    "connector.local_connection.commit()\n",
    "print(\"Primary key set successfully \") \n"
   ]
  },
  {
   "cell_type": "code",
   "execution_count": 24,
   "metadata": {},
   "outputs": [
    {
     "name": "stdout",
     "output_type": "stream",
     "text": [
      "Primary key set successfully \n"
     ]
    }
   ],
   "source": [
    "alter_command = \"\"\"\n",
    "DELETE FROM dim_products WHERE product_code IS NULL;\n",
    "DELETE FROM dim_products WHERE product_code = 'NULL';\n",
    "\n",
    "ALTER TABLE dim_products\n",
    "ADD PRIMARY KEY (product_code);\n",
    "\n",
    "\"\"\"\n",
    "connector.local_connection.execute(text(alter_command))\n",
    "connector.local_connection.commit()\n",
    "print(\"Primary key set successfully \") \n"
   ]
  },
  {
   "cell_type": "markdown",
   "metadata": {},
   "source": [
    "### TASK EIGHT"
   ]
  },
  {
   "cell_type": "code",
   "execution_count": 25,
   "metadata": {},
   "outputs": [
    {
     "name": "stdout",
     "output_type": "stream",
     "text": [
      "Primary key set successfully \n"
     ]
    }
   ],
   "source": [
    "\n",
    "alter_command = \"\"\"\n",
    "ALTER TABLE orders_table \n",
    "    ALTER COLUMN date_uuid TYPE UUID USING date_uuid::uuid,\n",
    "    ALTER COLUMN card_number TYPE VARCHAR(32);\n",
    "\n",
    "ALTER TABLE orders_table\n",
    "ADD CONSTRAINT fk_orders_users\n",
    "FOREIGN KEY (user_uuid) REFERENCES dim_users(user_uuid),\n",
    "ADD CONSTRAINT fk_orders_products\n",
    "FOREIGN KEY (product_code) REFERENCES dim_products(product_code),\n",
    "ADD CONSTRAINT fk_orders_stores\n",
    "FOREIGN KEY (store_code) REFERENCES dim_store_details(store_code),\n",
    "ADD CONSTRAINT fk_orders_dates\n",
    "FOREIGN KEY (date_uuid) REFERENCES dim_date_times(date_uuid),\n",
    "ADD CONSTRAINT fk_orders_cards\n",
    "FOREIGN KEY (card_number) REFERENCES dim_card_details(card_number);\n",
    "\n",
    "\n",
    "\"\"\"\n",
    "connector.local_connection.execute(text(alter_command))\n",
    "connector.local_connection.commit()\n",
    "print(\"Primary key set successfully \") \n"
   ]
  },
  {
   "cell_type": "code",
   "execution_count": 90,
   "metadata": {},
   "outputs": [
    {
     "name": "stdout",
     "output_type": "stream",
     "text": [
      "Collecting tabula-py"
     ]
    },
    {
     "name": "stderr",
     "output_type": "stream",
     "text": [
      "\n",
      "[notice] A new release of pip available: 22.3.1 -> 23.3.2\n",
      "[notice] To update, run: python.exe -m pip install --upgrade pip\n"
     ]
    },
    {
     "name": "stdout",
     "output_type": "stream",
     "text": [
      "\n",
      "  Using cached tabula_py-2.9.0-py3-none-any.whl (12.0 MB)\n",
      "Requirement already satisfied: numpy in c:\\users\\pocha\\appdata\\local\\programs\\python\\python310\\lib\\site-packages (from tabula-py) (1.24.3)\n",
      "Requirement already satisfied: pandas>=0.25.3 in c:\\users\\pocha\\appdata\\local\\programs\\python\\python310\\lib\\site-packages (from tabula-py) (2.0.2)\n",
      "Collecting distro\n",
      "  Using cached distro-1.9.0-py3-none-any.whl (20 kB)\n",
      "Requirement already satisfied: tzdata>=2022.1 in c:\\users\\pocha\\appdata\\local\\programs\\python\\python310\\lib\\site-packages (from pandas>=0.25.3->tabula-py) (2023.3)\n",
      "Requirement already satisfied: pytz>=2020.1 in c:\\users\\pocha\\appdata\\local\\programs\\python\\python310\\lib\\site-packages (from pandas>=0.25.3->tabula-py) (2023.3)\n",
      "Requirement already satisfied: python-dateutil>=2.8.2 in c:\\users\\pocha\\appdata\\roaming\\python\\python310\\site-packages (from pandas>=0.25.3->tabula-py) (2.8.2)\n",
      "Requirement already satisfied: six>=1.5 in c:\\users\\pocha\\appdata\\roaming\\python\\python310\\site-packages (from python-dateutil>=2.8.2->pandas>=0.25.3->tabula-py) (1.16.0)\n",
      "Installing collected packages: distro, tabula-py\n",
      "Successfully installed distro-1.9.0 tabula-py-2.9.0\n"
     ]
    }
   ],
   "source": [
    "!pip install tabula-py"
   ]
  },
  {
   "cell_type": "code",
   "execution_count": 1,
   "metadata": {},
   "outputs": [],
   "source": [
    "from data_extraction import DataExtractor\n",
    "from data_cleaning import DataCleaning\n",
    "from database_utils import DatabaseConnector\n",
    "\n",
    "db_connector = DatabaseConnector('db_creds.yaml')\n",
    "extractor = DataExtractor(db_connector)"
   ]
  },
  {
   "cell_type": "code",
   "execution_count": 2,
   "metadata": {},
   "outputs": [
    {
     "name": "stderr",
     "output_type": "stream",
     "text": [
      "Error importing jpype dependencies. Fallback to subprocess.\n",
      "No module named 'jpype'\n",
      "Got stderr: Jan 30, 2024 10:34:44 AM org.apache.pdfbox.rendering.PDFRenderer suggestKCMS\n",
      "INFO: Your current java version is: 1.8.0_111\n",
      "Jan 30, 2024 10:34:44 AM org.apache.pdfbox.rendering.PDFRenderer suggestKCMS\n",
      "INFO: To get higher rendering speed on old java 1.8 or 9 versions,\n",
      "Jan 30, 2024 10:34:44 AM org.apache.pdfbox.rendering.PDFRenderer suggestKCMS\n",
      "INFO:   update to the latest 1.8 or 9 version (>= 1.8.0_191 or >= 9.0.4),\n",
      "Jan 30, 2024 10:34:44 AM org.apache.pdfbox.rendering.PDFRenderer suggestKCMS\n",
      "INFO:   or\n",
      "Jan 30, 2024 10:34:44 AM org.apache.pdfbox.rendering.PDFRenderer suggestKCMS\n",
      "INFO:   use the option -Dsun.java2d.cmm=sun.java2d.cmm.kcms.KcmsServiceProvider\n",
      "Jan 30, 2024 10:34:44 AM org.apache.pdfbox.rendering.PDFRenderer suggestKCMS\n",
      "INFO:   or call System.setProperty(\"sun.java2d.cmm\", \"sun.java2d.cmm.kcms.KcmsServiceProvider\")\n",
      "\n"
     ]
    },
    {
     "name": "stdout",
     "output_type": "stream",
     "text": [
      "removing regex\n",
      "            card_number expiry_date                card_provider  \\\n",
      "0        30060773296197       09/26  Diners Club / Carte Blanche   \n",
      "1       349624180933183       10/23             American Express   \n",
      "2      3529023891650490       06/23                 JCB 16 digit   \n",
      "3       213142929492281       09/27                 JCB 15 digit   \n",
      "4          502067329974       10/25                      Maestro   \n",
      "...                 ...         ...                          ...   \n",
      "15304   180036921556789       12/28                 JCB 15 digit   \n",
      "15305   180018030448512       11/24                 JCB 15 digit   \n",
      "15306  3569953313547220       04/24                 JCB 16 digit   \n",
      "15307  4444521712606810       06/27                VISA 16 digit   \n",
      "15308   372031786522735       02/30             American Express   \n",
      "\n",
      "      date_payment_confirmed  \n",
      "0                 2015-11-25  \n",
      "1                 2001-06-18  \n",
      "2                 2000-12-26  \n",
      "3                 2011-02-12  \n",
      "4                 1997-03-13  \n",
      "...                      ...  \n",
      "15304             1997-06-06  \n",
      "15305             2004-06-16  \n",
      "15306             2020-02-05  \n",
      "15307             2008-06-16  \n",
      "15308             2009-02-04  \n",
      "\n",
      "[15309 rows x 4 columns]\n"
     ]
    }
   ],
   "source": [
    "\n",
    "#### extract the card data\n",
    "card_data_df = extractor.retrieve_pdf_data('https://data-handling-public.s3.eu-west-1.amazonaws.com/card_details.pdf')\n",
    "\n",
    "#### clean the cards data\n",
    "data_cleaner = DataCleaning(card_data_df)\n",
    "cleaned_data = data_cleaner.clean_card_data()\n",
    "print(cleaned_data)\n",
    "\n"
   ]
  },
  {
   "cell_type": "code",
   "execution_count": 3,
   "metadata": {},
   "outputs": [
    {
     "data": {
      "text/html": [
       "<div>\n",
       "<style scoped>\n",
       "    .dataframe tbody tr th:only-of-type {\n",
       "        vertical-align: middle;\n",
       "    }\n",
       "\n",
       "    .dataframe tbody tr th {\n",
       "        vertical-align: top;\n",
       "    }\n",
       "\n",
       "    .dataframe thead th {\n",
       "        text-align: right;\n",
       "    }\n",
       "</style>\n",
       "<table border=\"1\" class=\"dataframe\">\n",
       "  <thead>\n",
       "    <tr style=\"text-align: right;\">\n",
       "      <th></th>\n",
       "      <th>card_number</th>\n",
       "      <th>expiry_date</th>\n",
       "      <th>card_provider</th>\n",
       "      <th>date_payment_confirmed</th>\n",
       "      <th>card_number expiry_date</th>\n",
       "      <th>Unnamed: 0</th>\n",
       "    </tr>\n",
       "  </thead>\n",
       "  <tbody>\n",
       "  </tbody>\n",
       "</table>\n",
       "</div>"
      ],
      "text/plain": [
       "Empty DataFrame\n",
       "Columns: [card_number, expiry_date, card_provider, date_payment_confirmed, card_number expiry_date, Unnamed: 0]\n",
       "Index: []"
      ]
     },
     "execution_count": 3,
     "metadata": {},
     "output_type": "execute_result"
    }
   ],
   "source": [
    "\n",
    "# Finding rows where card_number contains '3554954842403828' (not an exact match)\n",
    "contains_rows = card_data_df[card_data_df['card_number'].str.contains('6011036876440620', na=False)]\n",
    "\n",
    "contains_rows\n",
    "\n"
   ]
  },
  {
   "cell_type": "code",
   "execution_count": 86,
   "metadata": {},
   "outputs": [
    {
     "name": "stdout",
     "output_type": "stream",
     "text": [
      "         card_number expiry_date                card_provider  \\\n",
      "0     30060773296197       09/26  Diners Club / Carte Blanche   \n",
      "1    349624180933183       10/23             American Express   \n",
      "2   3529023891650490       06/23                 JCB 16 digit   \n",
      "3    213142929492281       09/27                 JCB 15 digit   \n",
      "4       502067329974       10/25                      Maestro   \n",
      "..               ...         ...                          ...   \n",
      "14   180036921556789       12/28                 JCB 15 digit   \n",
      "15   180018030448512       11/24                 JCB 15 digit   \n",
      "16  3569953313547220       04/24                 JCB 16 digit   \n",
      "17  4444521712606810       06/27                VISA 16 digit   \n",
      "18   372031786522735       02/30             American Express   \n",
      "\n",
      "   date_payment_confirmed  \n",
      "0              2015-11-25  \n",
      "1              2001-06-18  \n",
      "2              2000-12-26  \n",
      "3              2011-02-12  \n",
      "4              1997-03-13  \n",
      "..                    ...  \n",
      "14             1997-06-06  \n",
      "15             2004-06-16  \n",
      "16             2020-02-05  \n",
      "17             2008-06-16  \n",
      "18             2009-02-04  \n",
      "\n",
      "[15309 rows x 4 columns]\n"
     ]
    },
    {
     "name": "stderr",
     "output_type": "stream",
     "text": [
      "C:\\Users\\pocha\\AppData\\Local\\Temp\\ipykernel_24628\\762985764.py:10: SettingWithCopyWarning: \n",
      "A value is trying to be set on a copy of a slice from a DataFrame.\n",
      "Try using .loc[row_indexer,col_indexer] = value instead\n",
      "\n",
      "See the caveats in the documentation: https://pandas.pydata.org/pandas-docs/stable/user_guide/indexing.html#returning-a-view-versus-a-copy\n",
      "  data['card_number'] = data['card_number'].astype('str')\n"
     ]
    }
   ],
   "source": [
    "import pandas as pd\n",
    "\n",
    "def clean_card_data(data):\n",
    "    # Handle NULL values\n",
    "    data = data[['card_number', \n",
    "                            'expiry_date', \n",
    "                            'card_provider',\n",
    "                            'date_payment_confirmed']\n",
    "                            ] \n",
    "    data['card_number'] = data['card_number'].astype('str')\n",
    "    \n",
    "    data = data.dropna(subset=['card_number'])\n",
    "    data['card_number'] = data['card_number'].str.replace('^\\\\?+', '', regex=True)\n",
    "    \n",
    "    data['date_payment_confirmed'] = pd.to_datetime(data['date_payment_confirmed'], errors='coerce')\n",
    "\n",
    "\n",
    "    return data\n",
    "\n",
    "# Sample data\n",
    "data = {\n",
    "    'card_number': ['1234567890123456', '???9876543210987', None, '5555888899990000'],\n",
    "    'expiry_date': ['12/22', '01/24', '03/23', '11/25'],\n",
    "    'card_provider': ['Visa', 'MasterCard', 'Visa', 'American Express'],\n",
    "    'date_payment_confirmed': ['2021-08-15', '2021-07-24', None, 'invalid_date']\n",
    "}\n",
    "\n",
    "# Creating DataFrame\n",
    "dim_card_details = pd.DataFrame(data)\n",
    "\n",
    "# Cleaning the data\n",
    "cleaned_data = clean_card_data(card_data_df)\n",
    "print(cleaned_data)\n"
   ]
  },
  {
   "cell_type": "code",
   "execution_count": null,
   "metadata": {},
   "outputs": [
    {
     "name": "stdout",
     "output_type": "stream",
     "text": [
      "42258299852\n"
     ]
    }
   ],
   "source": [
    "import re\n",
    "\n",
    "test_string = '??42258299852'\n",
    "new_string = re.sub('^\\\\?\\\\?', '', test_string)\n",
    "\n",
    "print(new_string)\n"
   ]
  }
 ],
 "metadata": {
  "kernelspec": {
   "display_name": "Python 3",
   "language": "python",
   "name": "python3"
  },
  "language_info": {
   "codemirror_mode": {
    "name": "ipython",
    "version": 3
   },
   "file_extension": ".py",
   "mimetype": "text/x-python",
   "name": "python",
   "nbconvert_exporter": "python",
   "pygments_lexer": "ipython3",
   "version": "3.10.10"
  }
 },
 "nbformat": 4,
 "nbformat_minor": 2
}
