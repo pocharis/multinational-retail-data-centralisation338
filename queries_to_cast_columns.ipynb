{
 "cells": [
  {
   "cell_type": "markdown",
   "metadata": {},
   "source": [
    "### Queries to develop the star-based schema\n",
    "\n",
    "Create database schema and get the columns in the correct data types.\n",
    "\n",
    "The notebook is to be run top-down."
   ]
  },
  {
   "cell_type": "code",
   "execution_count": null,
   "metadata": {},
   "outputs": [],
   "source": [
    "import psycopg2\n",
    "from sqlalchemy import create_engine, inspect, text\n",
    "from database_utils import DatabaseConnector\n",
    "\n",
    "connector = DatabaseConnector('db_creds.yaml')\n"
   ]
  },
  {
   "cell_type": "markdown",
   "metadata": {},
   "source": [
    "### Task One\n"
   ]
  },
  {
   "cell_type": "code",
   "execution_count": null,
   "metadata": {},
   "outputs": [
    {
     "name": "stdout",
     "output_type": "stream",
     "text": [
      "Column data types changed successfully.\n"
     ]
    }
   ],
   "source": [
    "alter_command = \"\"\"\n",
    "ALTER TABLE orders_table\n",
    "    ALTER COLUMN date_uuid TYPE UUID USING (date_uuid::UUID),\n",
    "    ALTER COLUMN user_uuid TYPE UUID USING (user_uuid::UUID),\n",
    "    ALTER COLUMN card_number TYPE VARCHAR(255),\n",
    "    ALTER COLUMN store_code TYPE VARCHAR(255),\n",
    "    ALTER COLUMN product_code TYPE VARCHAR(255),\n",
    "    ALTER COLUMN product_quantity TYPE SMALLINT USING (product_quantity::SMALLINT);\n",
    "\"\"\"\n",
    "\n",
    "connector.local_connection.execute(text(alter_command))\n",
    "\n",
    "print(\"Column data types changed successfully.\")"
   ]
  },
  {
   "cell_type": "markdown",
   "metadata": {},
   "source": [
    "### Task Two"
   ]
  },
  {
   "cell_type": "code",
   "execution_count": null,
   "metadata": {},
   "outputs": [
    {
     "name": "stdout",
     "output_type": "stream",
     "text": [
      "Column data types changed successfully.\n"
     ]
    }
   ],
   "source": [
    "alter_command = \"\"\"\n",
    "UPDATE dim_users\n",
    "SET user_uuid = NULL\n",
    "WHERE user_uuid::text !~ '-';\n",
    "\n",
    "DELETE FROM dim_users WHERE user_uuid IS NULL;\n",
    "\n",
    "ALTER TABLE dim_users\n",
    "    ALTER COLUMN first_name TYPE VARCHAR(255),\n",
    "    ALTER COLUMN last_name TYPE VARCHAR(255),\n",
    "    ALTER COLUMN date_of_birth TYPE DATE USING (date_of_birth::DATE),\n",
    "    ALTER COLUMN country_code TYPE VARCHAR(16), \n",
    "    ALTER COLUMN user_uuid TYPE UUID USING (user_uuid::UUID),\n",
    "    ALTER COLUMN join_date TYPE DATE USING (join_date::DATE);\n",
    "\n",
    "\n",
    "\"\"\"\n",
    "\n",
    "connector.local_connection.execute(text(alter_command))\n",
    "\n",
    "print(\"Column data types changed successfully.\")"
   ]
  },
  {
   "cell_type": "markdown",
   "metadata": {},
   "source": [
    "### Task Three"
   ]
  },
  {
   "cell_type": "code",
   "execution_count": null,
   "metadata": {},
   "outputs": [
    {
     "name": "stdout",
     "output_type": "stream",
     "text": [
      "Latitudes successfuly merged.\n"
     ]
    }
   ],
   "source": [
    "alter_command = \"\"\" \n",
    "UPDATE dim_store_details SET latitude = COALESCE(latitude, lat);\n",
    "ALTER TABLE dim_store_details DROP COLUMN lat;\n",
    "\"\"\"\n",
    "\n",
    "connector.local_connection.execute(text(alter_command))\n",
    "connector.local_connection.commit()\n",
    "print(\"Latitudes successfuly merged.\")"
   ]
  },
  {
   "cell_type": "code",
   "execution_count": null,
   "metadata": {},
   "outputs": [
    {
     "name": "stdout",
     "output_type": "stream",
     "text": [
      "Alphanumeric successfully removed\n"
     ]
    }
   ],
   "source": [
    "alter_command = \"\"\" \n",
    "UPDATE dim_store_details\n",
    "SET staff_numbers = NULL\n",
    "WHERE staff_numbers ~ '[^0-9]';\n",
    "\n",
    "UPDATE dim_store_details\n",
    "SET longitude = NULL\n",
    "WHERE longitude !~ '^[-]?[0-9]+(\\.[0-9]+)?$';\n",
    "\n",
    "UPDATE dim_store_details\n",
    "SET latitude = NULL\n",
    "WHERE latitude !~ '^[-]?[0-9]+(\\.[0-9]+)?$';\n",
    "\n",
    "UPDATE dim_store_details\n",
    "SET opening_date = NULL\n",
    "WHERE opening_date !~ '^[0-9]{4}-[0-9]{2}-[0-9]{2}$';\n",
    "\n",
    "\n",
    "\"\"\"\n",
    "\n",
    "connector.local_connection.execute(text(alter_command))\n",
    "connector.local_connection.commit()\n",
    "print(\"Alphanumeric successfully removed\")"
   ]
  },
  {
   "cell_type": "code",
   "execution_count": null,
   "metadata": {},
   "outputs": [
    {
     "name": "stdout",
     "output_type": "stream",
     "text": [
      "Type successfully updated.\n"
     ]
    }
   ],
   "source": [
    "alter_command = \"\"\" \n",
    "ALTER TABLE dim_store_details\n",
    "    ALTER COLUMN longitude TYPE FLOAT USING longitude::FLOAT,\n",
    "    ALTER COLUMN locality TYPE VARCHAR(64),\n",
    "    ALTER COLUMN store_code TYPE VARCHAR(255), \n",
    "    ALTER COLUMN staff_numbers TYPE SMALLINT USING staff_numbers::SMALLINT,\n",
    "    ALTER COLUMN opening_date TYPE DATE USING opening_date::DATE,\n",
    "    ALTER COLUMN store_type TYPE VARCHAR(255),\n",
    "    ALTER COLUMN latitude TYPE FLOAT USING latitude::FLOAT,\n",
    "    ALTER COLUMN country_code TYPE VARCHAR(255),\n",
    "    ALTER COLUMN continent TYPE VARCHAR(255);\n",
    "\n",
    "UPDATE dim_store_details\n",
    "SET locality = 'N/A'\n",
    "WHERE locality IS NULL;\n",
    "\"\"\"\n",
    "\n",
    "connector.local_connection.execute(text(alter_command))\n",
    "connector.local_connection.commit()\n",
    "print(\"Type successfully updated.\")"
   ]
  },
  {
   "cell_type": "markdown",
   "metadata": {},
   "source": [
    "### TASK FOUR"
   ]
  },
  {
   "cell_type": "code",
   "execution_count": null,
   "metadata": {},
   "outputs": [
    {
     "name": "stdout",
     "output_type": "stream",
     "text": [
      "£ successfully removed\n"
     ]
    }
   ],
   "source": [
    "alter_command = \"\"\"\n",
    "UPDATE dim_products\n",
    "SET product_price = REPLACE(product_price, '£', '');\n",
    "\n",
    "\"\"\"\n",
    "connector.local_connection.execute(text(alter_command))\n",
    "connector.local_connection.commit()\n",
    "print(\"£ successfully removed\")"
   ]
  },
  {
   "cell_type": "code",
   "execution_count": null,
   "metadata": {},
   "outputs": [
    {
     "name": "stdout",
     "output_type": "stream",
     "text": [
      "categories successfully added\n"
     ]
    }
   ],
   "source": [
    "\n",
    "alter_command = \"\"\"\n",
    "ALTER TABLE dim_products\n",
    "ADD COLUMN weight_class VARCHAR(20);\n",
    "\n",
    "UPDATE dim_products\n",
    "SET weight_class = CASE\n",
    "    WHEN weight_kg < 2 THEN 'Light'\n",
    "    WHEN weight_kg >= 2 AND weight_kg < 40 THEN 'Mid_Sized'\n",
    "    WHEN weight_kg >= 40 AND weight_kg < 140 THEN 'Heavy'\n",
    "    WHEN weight_kg >= 140 THEN 'Truck_Required'\n",
    "    ELSE 'Unknown'  -- Optional, to handle any cases not covered above\n",
    "END;\n",
    "\n",
    "\"\"\"\n",
    "connector.local_connection.execute(text(alter_command))\n",
    "connector.local_connection.commit()\n",
    "print(\"categories successfully added\")"
   ]
  },
  {
   "cell_type": "markdown",
   "metadata": {},
   "source": [
    "### TASK FIVE"
   ]
  },
  {
   "cell_type": "code",
   "execution_count": null,
   "metadata": {},
   "outputs": [
    {
     "name": "stdout",
     "output_type": "stream",
     "text": [
      "Categories successfully added\n"
     ]
    }
   ],
   "source": [
    "\n",
    "alter_command = \"\"\"\n",
    "\n",
    "ALTER TABLE dim_products\n",
    "RENAME COLUMN removed TO still_available;\n",
    "\n",
    "UPDATE dim_products\n",
    "SET still_available = CASE\n",
    "    WHEN still_available = 'Still_avaliable' THEN 'true'\n",
    "    ELSE 'false'\n",
    "END;\n",
    "\n",
    "\n",
    "\"\"\"\n",
    "connector.local_connection.execute(text(alter_command))\n",
    "connector.local_connection.commit()\n",
    "print(\"Categories successfully added\")"
   ]
  },
  {
   "cell_type": "code",
   "execution_count": null,
   "metadata": {},
   "outputs": [
    {
     "name": "stdout",
     "output_type": "stream",
     "text": [
      "Categories successfully added\n"
     ]
    }
   ],
   "source": [
    "alter_command = \"\"\"\n",
    "UPDATE dim_products\n",
    "SET product_price = NULL\n",
    "WHERE product_price !~ '^[-]?[0-9]+(\\.[0-9]+)?$';\n",
    "\n",
    "\n",
    "UPDATE dim_products\n",
    "SET date_added = NULL\n",
    "WHERE date_added !~ '^[0-9]{4}-[0-9]{2}-[0-9]{2}$';\n",
    "\n",
    "UPDATE dim_products\n",
    "SET uuid = NULL\n",
    "WHERE uuid !~ '-';\n",
    "\n",
    "\"\"\"\n",
    "connector.local_connection.execute(text(alter_command))\n",
    "connector.local_connection.commit()\n",
    "print(\"Categories successfully added\")"
   ]
  },
  {
   "cell_type": "code",
   "execution_count": null,
   "metadata": {},
   "outputs": [
    {
     "name": "stdout",
     "output_type": "stream",
     "text": [
      "Categories successfully added\n"
     ]
    }
   ],
   "source": [
    "# ALTER COLUMN weight_kg TYPE FLOAT USING weight_kg::FLOAT,\n",
    "alter_command = \"\"\"\n",
    "\n",
    "ALTER TABLE dim_products\n",
    "    ALTER COLUMN product_price TYPE FLOAT USING product_price::FLOAT,\n",
    "    ALTER COLUMN \\\"EAN\\\" TYPE VARCHAR(20),  \n",
    "    ALTER COLUMN product_code TYPE VARCHAR(20),  \n",
    "    ALTER COLUMN date_added TYPE DATE USING date_added::DATE,\n",
    "    ALTER COLUMN uuid TYPE UUID USING uuid::UUID,\n",
    "    ALTER COLUMN still_available TYPE BOOL USING still_available::BOOL,\n",
    "    ALTER COLUMN weight_class TYPE VARCHAR(20);  \n",
    "\n",
    "\"\"\"\n",
    "connector.local_connection.execute(text(alter_command))\n",
    "connector.local_connection.commit()\n",
    "print(\"Categories successfully added\") "
   ]
  },
  {
   "cell_type": "markdown",
   "metadata": {},
   "source": [
    "### TASK SIX"
   ]
  },
  {
   "cell_type": "code",
   "execution_count": null,
   "metadata": {},
   "outputs": [
    {
     "name": "stdout",
     "output_type": "stream",
     "text": [
      "removed unwanted items\n"
     ]
    }
   ],
   "source": [
    "alter_command = \"\"\"\n",
    "UPDATE dim_date_times\n",
    "SET month = NULL\n",
    "WHERE month !~ '^[-]?[0-9]+(\\.[0-9]+)?$';\n",
    "\n",
    "UPDATE dim_date_times\n",
    "SET year = NULL\n",
    "WHERE year !~ '^[-]?[0-9]+(\\.[0-9]+)?$';\n",
    "\n",
    "UPDATE dim_date_times\n",
    "SET day = NULL\n",
    "WHERE day !~ '^[-]?[0-9]+(\\.[0-9]+)?$';\n",
    "\n",
    "UPDATE dim_date_times\n",
    "SET timestamp = NULL\n",
    "WHERE timestamp !~ ':';\n",
    "\n",
    "UPDATE dim_date_times\n",
    "SET date_uuid = NULL\n",
    "WHERE date_uuid !~ '-';\n",
    "\n",
    "UPDATE dim_date_times\n",
    "SET time_period = NULL\n",
    "WHERE time_period !~ '^[A-Za-z]+$';\n",
    "\n",
    "\"\"\"\n",
    "connector.local_connection.execute(text(alter_command))\n",
    "connector.local_connection.commit()\n",
    "print(\"removed unwanted items\")"
   ]
  },
  {
   "cell_type": "code",
   "execution_count": null,
   "metadata": {},
   "outputs": [
    {
     "name": "stdout",
     "output_type": "stream",
     "text": [
      "Casting done successfully \n"
     ]
    }
   ],
   "source": [
    "# ALTER COLUMN weight_kg TYPE FLOAT USING weight_kg::FLOAT,\n",
    "alter_command = \"\"\"\n",
    "\n",
    "ALTER TABLE dim_date_times\n",
    "    ALTER COLUMN month TYPE VARCHAR(20),  \n",
    "    ALTER COLUMN year TYPE VARCHAR(10),   \n",
    "    ALTER COLUMN day TYPE VARCHAR(10),    \n",
    "    ALTER COLUMN time_period TYPE VARCHAR(20),  \n",
    "    ALTER COLUMN date_uuid TYPE UUID USING date_uuid::uuid;\n",
    "\n",
    "\n",
    "\"\"\"\n",
    "connector.local_connection.execute(text(alter_command))\n",
    "connector.local_connection.commit()\n",
    "print(\"Casting done successfully \") "
   ]
  },
  {
   "cell_type": "markdown",
   "metadata": {},
   "source": [
    "### TASK SEVEN"
   ]
  },
  {
   "cell_type": "code",
   "execution_count": null,
   "metadata": {},
   "outputs": [
    {
     "name": "stdout",
     "output_type": "stream",
     "text": [
      "removed unwanted items\n"
     ]
    }
   ],
   "source": [
    "alter_command = \"\"\"\n",
    "UPDATE dim_card_details\n",
    "SET card_number = NULL\n",
    "WHERE card_number !~ '^[-]?[0-9]+(\\.[0-9]+)?$';\n",
    "\n",
    "\n",
    "\n",
    "UPDATE dim_card_details\n",
    "SET expiry_date = NULL\n",
    "WHERE expiry_date !~ '/';\n",
    "\n",
    "\"\"\"\n",
    "connector.local_connection.execute(text(alter_command))\n",
    "connector.local_connection.commit()\n",
    "print(\"removed unwanted items\")"
   ]
  },
  {
   "cell_type": "code",
   "execution_count": null,
   "metadata": {},
   "outputs": [
    {
     "name": "stdout",
     "output_type": "stream",
     "text": [
      "Casting done successfully \n"
     ]
    }
   ],
   "source": [
    "# ALTER COLUMN weight_kg TYPE FLOAT USING weight_kg::FLOAT,\n",
    "alter_command = \"\"\"\n",
    "\n",
    "ALTER TABLE dim_card_details\n",
    "    ALTER COLUMN card_number TYPE VARCHAR(32),\n",
    "    ALTER COLUMN expiry_date TYPE VARCHAR(8),\n",
    "    ALTER COLUMN date_payment_confirmed TYPE DATE;\n",
    "\n",
    "\n",
    "\n",
    "\"\"\"\n",
    "connector.local_connection.execute(text(alter_command))\n",
    "connector.local_connection.commit()\n",
    "print(\"Casting done successfully \") "
   ]
  },
  {
   "cell_type": "markdown",
   "metadata": {},
   "source": [
    "### TASK EIGHT"
   ]
  },
  {
   "cell_type": "code",
   "execution_count": null,
   "metadata": {},
   "outputs": [
    {
     "name": "stdout",
     "output_type": "stream",
     "text": [
      "Primary key set successfully \n"
     ]
    }
   ],
   "source": [
    "alter_command = \"\"\"\n",
    "DELETE FROM dim_card_details WHERE card_number IS NULL;\n",
    "\n",
    "\n",
    "ALTER TABLE dim_card_details\n",
    "ADD PRIMARY KEY (card_number);\n",
    "\n",
    "\"\"\"\n",
    "connector.local_connection.execute(text(alter_command))\n",
    "connector.local_connection.commit()\n",
    "print(\"Primary key set successfully \") \n"
   ]
  },
  {
   "cell_type": "code",
   "execution_count": null,
   "metadata": {},
   "outputs": [
    {
     "name": "stdout",
     "output_type": "stream",
     "text": [
      "Primary key set successfully \n"
     ]
    }
   ],
   "source": [
    "alter_command = \"\"\"\n",
    "DELETE FROM dim_date_times WHERE date_uuid IS NULL;\n",
    "\n",
    "\n",
    "ALTER TABLE dim_date_times\n",
    "ADD PRIMARY KEY (date_uuid);\n",
    "\n",
    "\"\"\"\n",
    "connector.local_connection.execute(text(alter_command))\n",
    "connector.local_connection.commit()\n",
    "print(\"Primary key set successfully \") \n"
   ]
  },
  {
   "cell_type": "code",
   "execution_count": null,
   "metadata": {},
   "outputs": [
    {
     "name": "stdout",
     "output_type": "stream",
     "text": [
      "Primary key set successfully \n"
     ]
    }
   ],
   "source": [
    "alter_command = \"\"\"\n",
    "DELETE FROM dim_users WHERE user_uuid IS NULL;\n",
    "\n",
    "\n",
    "ALTER TABLE dim_users\n",
    "ADD PRIMARY KEY (user_uuid);\n",
    "\n",
    "\"\"\"\n",
    "connector.local_connection.execute(text(alter_command))\n",
    "connector.local_connection.commit()\n",
    "print(\"Primary key set successfully \") \n"
   ]
  },
  {
   "cell_type": "code",
   "execution_count": null,
   "metadata": {},
   "outputs": [
    {
     "name": "stdout",
     "output_type": "stream",
     "text": [
      "Primary key set successfully \n"
     ]
    }
   ],
   "source": [
    "alter_command = \"\"\"\n",
    "DELETE FROM dim_store_details WHERE store_code IS NULL;\n",
    "DELETE FROM dim_store_details WHERE store_code = 'NULL';\n",
    "\n",
    "ALTER TABLE dim_store_details\n",
    "ADD PRIMARY KEY (store_code);\n",
    "\n",
    "\"\"\"\n",
    "connector.local_connection.execute(text(alter_command))\n",
    "connector.local_connection.commit()\n",
    "print(\"Primary key set successfully \") \n"
   ]
  },
  {
   "cell_type": "code",
   "execution_count": null,
   "metadata": {},
   "outputs": [
    {
     "name": "stdout",
     "output_type": "stream",
     "text": [
      "Primary key set successfully \n"
     ]
    }
   ],
   "source": [
    "alter_command = \"\"\"\n",
    "DELETE FROM dim_products WHERE product_code IS NULL;\n",
    "DELETE FROM dim_products WHERE product_code = 'NULL';\n",
    "\n",
    "ALTER TABLE dim_products\n",
    "ADD PRIMARY KEY (product_code);\n",
    "\n",
    "\"\"\"\n",
    "connector.local_connection.execute(text(alter_command))\n",
    "connector.local_connection.commit()\n",
    "print(\"Primary key set successfully \") \n"
   ]
  },
  {
   "cell_type": "markdown",
   "metadata": {},
   "source": [
    "### TASK NINE"
   ]
  },
  {
   "cell_type": "code",
   "execution_count": null,
   "metadata": {},
   "outputs": [
    {
     "name": "stdout",
     "output_type": "stream",
     "text": [
      "Primary key set successfully \n"
     ]
    }
   ],
   "source": [
    "\n",
    "alter_command = \"\"\"\n",
    "ALTER TABLE orders_table \n",
    "    ALTER COLUMN date_uuid TYPE UUID USING date_uuid::uuid,\n",
    "    ALTER COLUMN card_number TYPE VARCHAR(32);\n",
    "\n",
    "ALTER TABLE orders_table\n",
    "ADD CONSTRAINT fk_orders_users\n",
    "FOREIGN KEY (user_uuid) REFERENCES dim_users(user_uuid),\n",
    "ADD CONSTRAINT fk_orders_products\n",
    "FOREIGN KEY (product_code) REFERENCES dim_products(product_code),\n",
    "ADD CONSTRAINT fk_orders_stores\n",
    "FOREIGN KEY (store_code) REFERENCES dim_store_details(store_code),\n",
    "ADD CONSTRAINT fk_orders_dates\n",
    "FOREIGN KEY (date_uuid) REFERENCES dim_date_times(date_uuid),\n",
    "ADD CONSTRAINT fk_orders_cards\n",
    "FOREIGN KEY (card_number) REFERENCES dim_card_details(card_number);\n",
    "\n",
    "\n",
    "\"\"\"\n",
    "connector.local_connection.execute(text(alter_command))\n",
    "connector.local_connection.commit()\n",
    "print(\"Primary key set successfully \") \n"
   ]
  }
 ],
 "metadata": {
  "kernelspec": {
   "display_name": "Python 3",
   "language": "python",
   "name": "python3"
  },
  "language_info": {
   "codemirror_mode": {
    "name": "ipython",
    "version": 3
   },
   "file_extension": ".py",
   "mimetype": "text/x-python",
   "name": "python",
   "nbconvert_exporter": "python",
   "pygments_lexer": "ipython3",
   "version": "3.10.10"
  }
 },
 "nbformat": 4,
 "nbformat_minor": 2
}
